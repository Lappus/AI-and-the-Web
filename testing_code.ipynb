{
 "cells": [
  {
   "cell_type": "code",
   "execution_count": 1,
   "metadata": {},
   "outputs": [],
   "source": [
    "import os\n",
    "import whoosh\n",
    "from whoosh.index import create_in\n",
    "from whoosh.fields import *\n",
    "from whoosh.qparser import QueryParser\n",
    "import requests\n",
    "from bs4 import BeautifulSoup\n",
    "from urllib.parse import urlparse, urljoin \n",
    "from flask import Flask, request, render_template\n",
    "from whoosh.query import And, Term\n",
    "\n",
    "# Create a folder for the index to be saved\n",
    "# Check if an index exists and open if possible\n",
    "\n",
    "# -----------------------------------------  whoosh index  -----------------------------------------\n",
    "\n",
    "def spider(index_path=\"index_dir\", website= \"https://vm009.rz.uos.de/crawl/\"):\n",
    "    \"\"\"\n",
    "    Crawls the given website and sub-pages for html content\n",
    "    Creates an index at the given path\n",
    "\n",
    "    Params:\n",
    "    index_path: path of the directory where the index will be saved\n",
    "    website: string http-link of the searched website\n",
    "    \"\"\"\n",
    "    #Schema for index creation\n",
    "    schema = Schema(title=TEXT(stored=True), content=TEXT)\n",
    "\n",
    "    # Create a folder for the index to be saved\n",
    "    # Check if an index exists and open if possible\n",
    "    if whoosh.index.exists_in(index_path):\n",
    "         ix = whoosh.index.open_dir(index_path)\n",
    "    else:\n",
    "        os.mkdir(index_path)\n",
    "        ix = whoosh.index.create_in(index_path, schema)\n",
    "           \n",
    "\n",
    "    # Create the writer for adding docs to the index\n",
    "    writer = ix.writer()\n",
    "    queue = [website]\n",
    "    visited_links = set()\n",
    "\n",
    "    while queue:\n",
    "        # Getting the next URL to search through\n",
    "        current_url = queue.pop(0)\n",
    "        # But only the ones we haven't searched yet\n",
    "        if current_url not in visited_links:\n",
    "\n",
    "            request = requests.get(current_url, timeout=4).text\n",
    "            soup = BeautifulSoup(request, 'html.parser')\n",
    "            # We don't need the meta data of the html, only content related text\n",
    "            words = soup.get_text()\n",
    "            # Update already visited list\n",
    "            visited_links.add(current_url)\n",
    "\n",
    "            # Add the URL and all included words to the writer of the index\n",
    "            writer.add_document(title = current_url, content = words)\n",
    "            # added a print statement to follow code and it seems that \"Home page\" is called twice\n",
    "            # even though it should be excluded due to \"visited_links\" check, right?\n",
    "            # why does that not work?\n",
    "            print(str(soup.title))\n",
    "            \n",
    "\n",
    "            # Update our stack of URLS\n",
    "            # find the anchor elements in the html used to create hyperlinks\n",
    "            for anchor in soup.find_all('a'):\n",
    "                # retrieving the URL that the anchor points to\n",
    "                href = anchor.get('href')\n",
    "\n",
    "                # fusing the main URL with the new href part of the link\n",
    "                if href:\n",
    "                    absolute_url = urljoin(current_url, href)\n",
    "\n",
    "                    if absolute_url.startswith(website) and absolute_url not in visited_links:\n",
    "                        queue.append(absolute_url)\n",
    "                        \n",
    "            for button in soup.find_all('button'):\n",
    "\n",
    "                # retrieving the URL that the button points to\n",
    "                if button.get('href') != None:\n",
    "                    href = button.get('href')\n",
    "\n",
    "                # fusing the main URL with the new href part of the link\n",
    "                if href:\n",
    "                    absolute_url = urljoin(current_url, href)\n",
    "\n",
    "                    if absolute_url.startswith(website) and absolute_url not in visited_links:\n",
    "                        queue.append(absolute_url)\n",
    "\n",
    "            for link in soup.find_all('link'):\n",
    "\n",
    "                # retrieving the URL that the link points to\n",
    "                if link.get('href') != None:\n",
    "                    href = link.get('href')\n",
    "\n",
    "                # fusing the main URL with the new href part of the link\n",
    "                if href:\n",
    "                    absolute_url = urljoin(current_url, href)\n",
    "\n",
    "                    if absolute_url.startswith(website) and absolute_url not in visited_links:\n",
    "                        queue.append(absolute_url)\n",
    "\n",
    "            \n",
    "\n",
    "    writer.commit()\n",
    "\n",
    "# -----------------------------------------  Search function   -----------------------------------------\n",
    "\n",
    "def search_function(index_path, query):\n",
    "    \"\"\"\n",
    "    Searches the given whoosh index for the given words\n",
    "\n",
    "    Params:\n",
    "    index_path: path where the whoosh index is saved\n",
    "    query: words string that will be searched\n",
    "\n",
    "    \"\"\"\n",
    "   \n",
    "    ix = whoosh.index.open_dir(index_path)\n",
    "\n",
    "    # Create a query for each word in the list\n",
    "    queries = [Term(\"content\", word) for word in query]\n",
    "\n",
    "    # Combine the queries with an AND operator (we want webpages that contain ALL of the input words)\n",
    "    combined_query = And(queries)\n",
    "\n",
    "    with ix.searcher() as searcher: \n",
    "\n",
    "        results = searcher.search(combined_query)\n",
    "        hits = [hit.fields() for hit in results]\n",
    "    print(hits)\n",
    "    return hits"
   ]
  },
  {
   "cell_type": "code",
   "execution_count": 3,
   "metadata": {},
   "outputs": [
    {
     "name": "stdout",
     "output_type": "stream",
     "text": [
      "[]\n"
     ]
    },
    {
     "data": {
      "text/plain": [
       "[]"
      ]
     },
     "execution_count": 3,
     "metadata": {},
     "output_type": "execute_result"
    }
   ],
   "source": [
    "search_function(\"sebklein\", \"platypus\")"
   ]
  },
  {
   "cell_type": "code",
   "execution_count": 2,
   "metadata": {},
   "outputs": [
    {
     "name": "stdout",
     "output_type": "stream",
     "text": [
      "<title>Sebastian Klein, Webentwickler &amp; TYPO3 CMS Certified Integrator aus Solingen</title>\n",
      "<title>Sebastian Klein, Webentwickler &amp; TYPO3 CMS Certified Integrator aus Solingen</title>\n"
     ]
    }
   ],
   "source": [
    "spider(\"sebklein\",\"https://www.sebkln.de/zur-person/\")\n",
    "\n"
   ]
  },
  {
   "cell_type": "markdown",
   "metadata": {},
   "source": []
  }
 ],
 "metadata": {
  "kernelspec": {
   "display_name": "aiweb",
   "language": "python",
   "name": "python3"
  },
  "language_info": {
   "codemirror_mode": {
    "name": "ipython",
    "version": 3
   },
   "file_extension": ".py",
   "mimetype": "text/x-python",
   "name": "python",
   "nbconvert_exporter": "python",
   "pygments_lexer": "ipython3",
   "version": "3.9.7"
  }
 },
 "nbformat": 4,
 "nbformat_minor": 2
}
